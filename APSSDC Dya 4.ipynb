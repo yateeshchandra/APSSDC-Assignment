{
 "cells": [
  {
   "cell_type": "markdown",
   "id": "2d499551",
   "metadata": {},
   "source": [
    "# day 4 AP19110010526"
   ]
  },
  {
   "cell_type": "markdown",
   "id": "fea44138",
   "metadata": {},
   "source": [
    "Task\n",
    "Take input from user\n",
    "If it's odd, print the middle element\n",
    "If it's even, print two middle characters"
   ]
  },
  {
   "cell_type": "code",
   "execution_count": 3,
   "id": "1c4228b5",
   "metadata": {},
   "outputs": [
    {
     "ename": "SyntaxError",
     "evalue": "invalid syntax (<ipython-input-3-6864281370b9>, line 8)",
     "output_type": "error",
     "traceback": [
      "\u001b[1;36m  File \u001b[1;32m\"<ipython-input-3-6864281370b9>\"\u001b[1;36m, line \u001b[1;32m8\u001b[0m\n\u001b[1;33m    print(b)\u001b[0m\n\u001b[1;37m    ^\u001b[0m\n\u001b[1;31mSyntaxError\u001b[0m\u001b[1;31m:\u001b[0m invalid syntax\n"
     ]
    }
   ],
   "source": [
    "a= input('Enter the input : ')\n",
    "if len(a)%2==0:\n",
    "    print('Length of the string is even')\n",
    "    print(a[len(a)//2-1], a[len(a)//2])\n",
    "elif len(a)%2!=0:\n",
    "    print('Length of the string is odd')\n",
    "    b=a[len(a)//2\n",
    "    print(b)"
   ]
  },
  {
   "cell_type": "code",
   "execution_count": 2,
   "id": "cdcb4bbf",
   "metadata": {},
   "outputs": [
    {
     "name": "stdout",
     "output_type": "stream",
     "text": [
      "Enter the input: Yateesh Chandra\n",
      "Length of the string is odd\n",
      " \n"
     ]
    }
   ],
   "source": [
    "a= input('Enter the input: ')\n",
    "if len(a)%2==0:\n",
    "    print('Length of the string is even')\n",
    "    print(a[len(a)//2-1], a[len(a)//2])\n",
    "elif len(a)%2!=0:\n",
    "    print('Length of the string is odd')\n",
    "    print(a[len(a)//2])"
   ]
  },
  {
   "cell_type": "code",
   "execution_count": null,
   "id": "df544670",
   "metadata": {},
   "outputs": [],
   "source": []
  }
 ],
 "metadata": {
  "kernelspec": {
   "display_name": "Python 3",
   "language": "python",
   "name": "python3"
  },
  "language_info": {
   "codemirror_mode": {
    "name": "ipython",
    "version": 3
   },
   "file_extension": ".py",
   "mimetype": "text/x-python",
   "name": "python",
   "nbconvert_exporter": "python",
   "pygments_lexer": "ipython3",
   "version": "3.8.8"
  }
 },
 "nbformat": 4,
 "nbformat_minor": 5
}
