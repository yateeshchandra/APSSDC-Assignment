{
 "cells": [
  {
   "cell_type": "markdown",
   "id": "e54a4c4c",
   "metadata": {},
   "source": [
    "## day 5 AP19110010526"
   ]
  },
  {
   "cell_type": "markdown",
   "id": "8b05ae9f",
   "metadata": {},
   "source": [
    "Task:\n",
    "• Write a Python program to sum all the items in a list.\n",
    "\n",
    "• Write a Python program to convert a list of characters into a string \n",
    "\n",
    "• program to put even and odd elements in a list into two different lists\n",
    "\n",
    "• Write a Python program to remove duplicates from a list\n",
    "\n",
    "• Write a Python program to check a list is empty or not.\n",
    "\n",
    "• Write a Python program to print a specified list after removing the O th, 4th and 5th elements.\n",
    "\n",
    "• Write a Python function that takes two lists and returns True if they have at least one common member."
   ]
  },
  {
   "cell_type": "code",
   "execution_count": 1,
   "id": "5f436ad9",
   "metadata": {},
   "outputs": [
    {
     "name": "stdout",
     "output_type": "stream",
     "text": [
      "sum of all the items in the list: 6732\n"
     ]
    }
   ],
   "source": [
    "t=[350,3400,450,500,782,600,650]\n",
    "print('sum of all the items in the list:',sum(t))"
   ]
  },
  {
   "cell_type": "code",
   "execution_count": 2,
   "id": "59001c1d",
   "metadata": {},
   "outputs": [
    {
     "data": {
      "text/plain": [
       "'My name is Yateesh'"
      ]
     },
     "execution_count": 2,
     "metadata": {},
     "output_type": "execute_result"
    }
   ],
   "source": [
    "k= ['My','name','is','Yateesh']\n",
    "' '.join(k)"
   ]
  },
  {
   "cell_type": "code",
   "execution_count": 3,
   "id": "1b151733",
   "metadata": {},
   "outputs": [
    {
     "name": "stdout",
     "output_type": "stream",
     "text": [
      "[78, 56, 92, 458, 904]\n",
      "[7265, 9863]\n"
     ]
    }
   ],
   "source": [
    "j= [78,56,92,7265,9863,458,904]\n",
    "even= []\n",
    "odd= []\n",
    "for i in j:\n",
    "    if i%2==0:\n",
    "        even.append(i)\n",
    "    else:\n",
    "        odd.append(i)\n",
    "print(even)\n",
    "print(odd)"
   ]
  },
  {
   "cell_type": "code",
   "execution_count": 4,
   "id": "04ffc767",
   "metadata": {},
   "outputs": [
    {
     "name": "stdout",
     "output_type": "stream",
     "text": [
      "[8, 45, 89, 563, 198, 72, 65, 77]\n"
     ]
    }
   ],
   "source": [
    "def Remove(duplicate):\n",
    "    final_list = []\n",
    "    for num in duplicate:\n",
    "        if num not in final_list:\n",
    "            final_list.append(num)\n",
    "    return final_list\n",
    "     \n",
    "# Driver Code\n",
    "duplicate = [8,45,89,563,198,45,198,72,65,77,8]\n",
    "print(Remove(duplicate))"
   ]
  },
  {
   "cell_type": "code",
   "execution_count": 8,
   "id": "dce8e4a9",
   "metadata": {},
   "outputs": [
    {
     "name": "stdout",
     "output_type": "stream",
     "text": [
      "The list is empty\n"
     ]
    }
   ],
   "source": [
    "c= []\n",
    "if len(c)==0:\n",
    "    print('The list is empty')\n",
    "else:\n",
    "    print('The list is not empty')"
   ]
  },
  {
   "cell_type": "code",
   "execution_count": 7,
   "id": "b2e53365",
   "metadata": {},
   "outputs": [
    {
     "name": "stdout",
     "output_type": "stream",
     "text": [
      "[78, 63, 93]\n"
     ]
    }
   ],
   "source": [
    "d = [89,78,63,93,8902,53]\n",
    "del d[0]\n",
    "del d[4]\n",
    "del d[3]\n",
    "print(d)"
   ]
  },
  {
   "cell_type": "code",
   "execution_count": 8,
   "id": "bf425827",
   "metadata": {},
   "outputs": [
    {
     "name": "stdout",
     "output_type": "stream",
     "text": [
      "False\n"
     ]
    }
   ],
   "source": [
    "def common(x,y):\n",
    "    flag = False\n",
    "    for i in x:\n",
    "        if (i in y):\n",
    "            flag = True\n",
    "        else:\n",
    "            pass\n",
    "        return flag\n",
    "    \n",
    "x= [5,6,7,8]\n",
    "y= [1,2,3,4]\n",
    "print(common(x,y))"
   ]
  },
  {
   "cell_type": "code",
   "execution_count": 9,
   "id": "334d2a7f",
   "metadata": {},
   "outputs": [
    {
     "name": "stdout",
     "output_type": "stream",
     "text": [
      "True\n"
     ]
    }
   ],
   "source": [
    "def common(x,y):\n",
    "    flag = False\n",
    "    for i in x:\n",
    "        if (i in y):\n",
    "            flag = True\n",
    "        else:\n",
    "            pass\n",
    "        return flag\n",
    "    \n",
    "x= [1,5,6,7]\n",
    "y= [1,2,3,4]\n",
    "print(common(x,y))"
   ]
  },
  {
   "cell_type": "code",
   "execution_count": null,
   "id": "86ec759c",
   "metadata": {},
   "outputs": [],
   "source": []
  }
 ],
 "metadata": {
  "kernelspec": {
   "display_name": "Python 3",
   "language": "python",
   "name": "python3"
  },
  "language_info": {
   "codemirror_mode": {
    "name": "ipython",
    "version": 3
   },
   "file_extension": ".py",
   "mimetype": "text/x-python",
   "name": "python",
   "nbconvert_exporter": "python",
   "pygments_lexer": "ipython3",
   "version": "3.8.8"
  }
 },
 "nbformat": 4,
 "nbformat_minor": 5
}
