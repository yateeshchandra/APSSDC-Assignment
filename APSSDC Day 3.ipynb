{
 "cells": [
  {
   "cell_type": "markdown",
   "id": "71224b58",
   "metadata": {},
   "source": [
    "## day 3 AP19110010526"
   ]
  },
  {
   "cell_type": "markdown",
   "id": "028886d4",
   "metadata": {},
   "source": [
    "take last 3 values of roll number(AP19110010077)\n",
    "\n",
    "if the value starts with \"01\" -> 'CSE Dept'\n",
    "\n",
    "elif value satrts with '11'-> 'IT Dept'\n",
    "\n",
    "elif value starts with \"21\" -> 'ECE Dept'\n",
    "\n",
    "else not an SRM Student"
   ]
  },
  {
   "cell_type": "code",
   "execution_count": 1,
   "id": "97fcacd1",
   "metadata": {},
   "outputs": [
    {
     "name": "stdout",
     "output_type": "stream",
     "text": [
      "Enter your roll number:AP19110010526\n",
      "Not a SRM student\n"
     ]
    }
   ],
   "source": [
    "str= input(\"Enter your roll number:\")\n",
    "if str[-3:].startswith('01'):\n",
    "    print('CSE department')\n",
    "elif str[-3:].startswith('11'):\n",
    "    print('IT department')\n",
    "elif str[-3:].startswith('21'):\n",
    "    print('ECE department')\n",
    "else:\n",
    "    print(\"Not a SRM student\")"
   ]
  },
  {
   "cell_type": "code",
   "execution_count": 2,
   "id": "a174fad2",
   "metadata": {},
   "outputs": [
    {
     "name": "stdout",
     "output_type": "stream",
     "text": [
      "Enter your roll number:AP1911001011\n",
      "CSE department\n"
     ]
    }
   ],
   "source": [
    "str= input(\"Enter your roll number:\")\n",
    "if str[-3:].startswith('01'):\n",
    "    print('CSE department')\n",
    "    \n",
    "elif str[-3:].startswith('11'):\n",
    "    print('IT department')\n",
    "elif str[-3:].startswith('21'):\n",
    "    print('ECE department')\n",
    "else:\n",
    "    print(\"Not a SRM student\")\n",
    "    "
   ]
  },
  {
   "cell_type": "code",
   "execution_count": 3,
   "id": "35eb42a7",
   "metadata": {},
   "outputs": [
    {
     "name": "stdout",
     "output_type": "stream",
     "text": [
      "Enter your roll number:AP19110010218\n",
      "ECE department\n"
     ]
    }
   ],
   "source": [
    "str= input(\"Enter your roll number:\")\n",
    "if str[-3:].startswith('01'):\n",
    "    print('CSE department')\n",
    "    \n",
    "elif str[-3:].startswith('11'):\n",
    "    print('IT department')\n",
    "elif str[-3:].startswith('21'):\n",
    "    print('ECE department')\n",
    "else:\n",
    "    print(\"Not a SRM student\")\n",
    "    "
   ]
  },
  {
   "cell_type": "code",
   "execution_count": 3,
   "id": "f65306ce",
   "metadata": {},
   "outputs": [
    {
     "name": "stdout",
     "output_type": "stream",
     "text": [
      "Enter your roll number:AP19110010526\n",
      "Not a SRM student\n"
     ]
    }
   ],
   "source": [
    "str= input(\"Enter your roll number:\")\n",
    "if str[-3:].startswith('01'):\n",
    "    print('CSE department')\n",
    "    \n",
    "elif str[-3:].startswith('11'):\n",
    "    print('IT department')\n",
    "elif str[-3:].startswith('21'):\n",
    "    print('ECE department')\n",
    "else:\n",
    "    print(\"Not a SRM student\")\n",
    "    "
   ]
  },
  {
   "cell_type": "code",
   "execution_count": null,
   "id": "0d821e27",
   "metadata": {},
   "outputs": [],
   "source": []
  }
 ],
 "metadata": {
  "kernelspec": {
   "display_name": "Python 3",
   "language": "python",
   "name": "python3"
  },
  "language_info": {
   "codemirror_mode": {
    "name": "ipython",
    "version": 3
   },
   "file_extension": ".py",
   "mimetype": "text/x-python",
   "name": "python",
   "nbconvert_exporter": "python",
   "pygments_lexer": "ipython3",
   "version": "3.8.8"
  }
 },
 "nbformat": 4,
 "nbformat_minor": 5
}
