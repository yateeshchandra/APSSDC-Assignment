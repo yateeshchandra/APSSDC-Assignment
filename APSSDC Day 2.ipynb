{
 "cells": [
  {
   "cell_type": "markdown",
   "id": "831658e9",
   "metadata": {},
   "source": [
    "# Task 2 AP19110010526"
   ]
  },
  {
   "cell_type": "code",
   "execution_count": 2,
   "id": "bf379034",
   "metadata": {},
   "outputs": [
    {
     "name": "stdout",
     "output_type": "stream",
     "text": [
      "Enter your age:18\n",
      "You are eligible to vote\n"
     ]
    }
   ],
   "source": [
    "#Write a program to check whether the user is eligibe to vote or not \n",
    "x=int(input(\"Enter your age:\"))\n",
    "if (x>=18):\n",
    "    print(\"You are eligible to vote\")\n",
    "else:\n",
    "    print(\"You are not eligible to vote\")"
   ]
  },
  {
   "cell_type": "code",
   "execution_count": 3,
   "id": "8036971a",
   "metadata": {},
   "outputs": [
    {
     "name": "stdout",
     "output_type": "stream",
     "text": [
      "Enter your number:43\n",
      "The number is positive: 43\n"
     ]
    }
   ],
   "source": [
    "#to check whether the given number is positive or not\n",
    "x = int(input(\"Enter your number:\"))\n",
    "if(x>0):\n",
    "    print(\"The number is positive:\",x)\n",
    "elif(x<0):\n",
    "    print(\"The number is negative:\",x)\n",
    "else:\n",
    "    print(\"The number is zero\")"
   ]
  },
  {
   "cell_type": "code",
   "execution_count": 4,
   "id": "760bc74c",
   "metadata": {},
   "outputs": [
    {
     "name": "stdout",
     "output_type": "stream",
     "text": [
      "Enter your number:456783\n",
      "The number is odd\n"
     ]
    }
   ],
   "source": [
    "#To check whether the given number is odd or even, and if it's even checck will it be divided by 4 or not\n",
    "x= int(input(\"Enter your number:\"))\n",
    "if (x%2==0 and x%4==0):\n",
    "    print(\"The number is even and divisible by 4\",x)\n",
    "elif(x%2==0 and x%4!=0):\n",
    "    print(\"The number is even but not divisible by 4\")\n",
    "else:\n",
    "    print(\"The number is odd\")"
   ]
  },
  {
   "cell_type": "code",
   "execution_count": 5,
   "id": "f941d1dd",
   "metadata": {},
   "outputs": [
    {
     "name": "stdout",
     "output_type": "stream",
     "text": [
      "Enter your percentage84\n",
      "The student passed in distinction 84 %\n"
     ]
    }
   ],
   "source": [
    "#program to print the student grades based on the percentages\n",
    "x= int(input(\"Enter your percentage\"))\n",
    "if(x>=60):\n",
    "    print(\"The student passed in distinction\",x,\"%\")\n",
    "elif(x>=35 and x<60):\n",
    "    print(\"The student is just pass\",x,\"%\")\n",
    "else:\n",
    "    print(\"The student failed\")\n",
    "    \n",
    "    "
   ]
  },
  {
   "cell_type": "code",
   "execution_count": 6,
   "id": "b4d4d26e",
   "metadata": {},
   "outputs": [
    {
     "name": "stdout",
     "output_type": "stream",
     "text": [
      "Enter the year:3458\n",
      "The year is not a leap year\n"
     ]
    }
   ],
   "source": [
    "#To check the given year is leap year or not\n",
    "x=int(input(\"Enter the year:\"))\n",
    "if(x%4==0 and x%100!=0):\n",
    "    print(\"The year is leap year\",x)\n",
    "elif(x%100==0):\n",
    "    print(\"The year is not a leap year\",x)\n",
    "elif(x%400==0):\n",
    "    print(\"The year is leap year\",x)\n",
    "else:\n",
    "    print(\"The year is not a leap year\")"
   ]
  },
  {
   "cell_type": "code",
   "execution_count": null,
   "id": "5c7f60a7",
   "metadata": {},
   "outputs": [],
   "source": []
  }
 ],
 "metadata": {
  "kernelspec": {
   "display_name": "Python 3",
   "language": "python",
   "name": "python3"
  },
  "language_info": {
   "codemirror_mode": {
    "name": "ipython",
    "version": 3
   },
   "file_extension": ".py",
   "mimetype": "text/x-python",
   "name": "python",
   "nbconvert_exporter": "python",
   "pygments_lexer": "ipython3",
   "version": "3.8.8"
  }
 },
 "nbformat": 4,
 "nbformat_minor": 5
}
